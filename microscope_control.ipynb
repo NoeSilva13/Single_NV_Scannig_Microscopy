{
 "cells": [
  {
   "cell_type": "code",
   "execution_count": 8,
   "metadata": {},
   "outputs": [],
   "source": [
    "# Import required libraries\n",
    "import numpy as np\n",
    "import matplotlib.pyplot as plt\n",
    "from IPython.display import display, clear_output\n",
    "import ipywidgets as widgets\n",
    "from galvo_controller import GalvoScannerController\n",
    "import json\n",
    "import time\n",
    "\n",
    "# Set up matplotlib for inline plotting\n",
    "%matplotlib inline"
   ]
  },
  {
   "cell_type": "code",
   "execution_count": null,
   "metadata": {},
   "outputs": [],
   "source": [
    "# Initialize the microscope\n",
    "microscope = GalvoScannerController()\n",
    "print(\"Microscope initialized successfully!\")"
   ]
  },
  {
   "cell_type": "code",
   "execution_count": null,
   "metadata": {},
   "outputs": [],
   "source": [
    "import live_plot\n",
    "\n",
    "def measure_photons():\n",
    "    try:\n",
    "        # Read photon counts for 0.1 seconds\n",
    "        counts = microscope.read_spd_count(sampling_time=0.1)\n",
    "        # Convert to counts per second\n",
    "        return counts * 10  # Multiply by 10 since we sampled for 0.1s\n",
    "    except Exception as e:\n",
    "        print(f\"Error reading photon counts: {str(e)}\")\n",
    "        return 0\n",
    "\n",
    "\n",
    "live_plot.live_plot(\n",
    "            measure_function=measure_photons,\n",
    "            histogram_range=100,  # Show last 100 points\n",
    "            dt=0.1  # Update every 0.1 seconds\n",
    "        )"
   ]
  }
 ],
 "metadata": {
  "kernelspec": {
   "display_name": "Python 3",
   "language": "python",
   "name": "python3"
  },
  "language_info": {
   "codemirror_mode": {
    "name": "ipython",
    "version": 3
   },
   "file_extension": ".py",
   "mimetype": "text/x-python",
   "name": "python",
   "nbconvert_exporter": "python",
   "pygments_lexer": "ipython3",
   "version": "3.13.1"
  }
 },
 "nbformat": 4,
 "nbformat_minor": 2
}
