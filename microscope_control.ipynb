{
 "cells": [
  {
   "cell_type": "code",
   "execution_count": 1,
   "metadata": {},
   "outputs": [],
   "source": [
    "# Import required libraries\n",
    "import numpy as np\n",
    "import matplotlib.pyplot as plt\n",
    "from IPython.display import display, clear_output\n",
    "import ipywidgets as widgets\n",
    "from galvo_controller import GalvoScannerController\n",
    "from main import ScanningMicroscope\n",
    "import json\n",
    "import time\n",
    "import live_plot\n",
    "# Set up matplotlib for inline plotting\n",
    "%matplotlib inline"
   ]
  },
  {
   "cell_type": "code",
   "execution_count": 2,
   "metadata": {},
   "outputs": [
    {
     "name": "stdout",
     "output_type": "stream",
     "text": [
      "Successfully initialized DAQ connection\n",
      "Microscope initialized successfully!\n"
     ]
    }
   ],
   "source": [
    "# Initialize the microscope\n",
    "microscope = GalvoScannerController()\n",
    "print(\"Microscope initialized successfully!\")"
   ]
  },
  {
   "cell_type": "code",
   "execution_count": null,
   "metadata": {},
   "outputs": [],
   "source": [
    "\n",
    "\n",
    "def measure_photons():\n",
    "    try:\n",
    "        # Read photon counts for 0.1 seconds\n",
    "        counts = microscope.read_spd_count(sampling_time=0.1)\n",
    "        # Convert to counts per second\n",
    "        return counts * 10  # Multiply by 10 since we sampled for 0.1s\n",
    "    except Exception as e:\n",
    "        print(f\"Error reading photon counts: {str(e)}\")\n",
    "        return 0\n",
    "\n",
    "\n",
    "live_plot.live_plot(\n",
    "            measure_function=measure_photons,\n",
    "            histogram_range=100,  # Show last 100 points\n",
    "            dt=0.1  # Update every 0.1 seconds\n",
    "        )"
   ]
  },
  {
   "cell_type": "code",
   "execution_count": 3,
   "metadata": {},
   "outputs": [
    {
     "data": {
      "image/png": "[encoded data removed]",
      "text/plain": [
       "<Figure size 640x480 with 1 Axes>"
      ]
     },
     "metadata": {},
     "output_type": "display_data"
    }
   ],
   "source": [
    "from typing import Generator, Tuple, Dict, Any\n",
    "config = {\n",
    "    \"scan_range\": {\n",
    "        \"x\": [-1.0, 1.0],\n",
    "        \"y\": [-1.0, 1.0]\n",
    "    },\n",
    "    \"resolution\": {\n",
    "        \"x\": 5,\n",
    "        \"y\": 5\n",
    "    },\n",
    "    \"dwell_time\": 0.1,\n",
    "    \"scan_mode\": \"realtime\",\n",
    "    \"hardware\": {\n",
    "        \"sample_rate\": 1000,\n",
    "        \"samples_per_point\": 10,\n",
    "        \"settling_time\": 0.001\n",
    "    },\n",
    "    \"visualization\": {\n",
    "        \"colormap\": \"viridis\",\n",
    "        \"update_interval\": 50\n",
    "    }\n",
    "} \n",
    "\n",
    "def setup_scan(config):\n",
    "        \"\"\"Set up scan parameters based on configuration.\"\"\"\n",
    "        try:\n",
    "            x_range = config['scan_range']['x']\n",
    "            y_range = config['scan_range']['y']\n",
    "            x_res = config['resolution']['x']\n",
    "            y_res = config['resolution']['y']\n",
    "            \n",
    "            x_points = np.linspace(x_range[0], x_range[1], x_res)\n",
    "            y_points = np.linspace(y_range[0], y_range[1], y_res)\n",
    "            \n",
    "            return x_points, y_points\n",
    "        except Exception as e:\n",
    "            print(f\"Error setting up scan: {str(e)}\")\n",
    "            raise\n",
    "\n",
    "x_points, y_points = setup_scan(config)\n",
    "\n",
    "live_plot.live_plot(\n",
    "            measure_function=lambda: microscope.scan_pattern(x_points, y_points, config['dwell_time']),\n",
    "            histogram_range=100,  # Show last 100 points\n",
    "            dt=0.1\n",
    "        )"
   ]
  }
 ],
 "metadata": {
  "kernelspec": {
   "display_name": "Python 3",
   "language": "python",
   "name": "python3"
  },
  "language_info": {
   "codemirror_mode": {
    "name": "ipython",
    "version": 3
   },
   "file_extension": ".py",
   "mimetype": "text/x-python",
   "name": "python",
   "nbconvert_exporter": "python",
   "pygments_lexer": "ipython3",
   "version": "3.13.1"
  }
 },
 "nbformat": 4,
 "nbformat_minor": 2
}
