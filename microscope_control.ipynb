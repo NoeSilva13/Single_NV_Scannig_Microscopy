{
 "cells": [
  {
   "cell_type": "code",
   "execution_count": 1,
   "metadata": {},
   "outputs": [],
   "source": [
    "# Import required libraries\n",
    "import numpy as np\n",
    "import matplotlib.pyplot as plt\n",
    "from IPython.display import display, clear_output\n",
    "import ipywidgets as widgets\n",
    "from galvo_controller import GalvoScannerController\n",
    "from main import ScanningMicroscope\n",
    "import json\n",
    "import time\n",
    "import live_plot\n",
    "# Set up matplotlib for inline plotting\n",
    "%matplotlib inline"
   ]
  },
  {
   "cell_type": "markdown",
   "metadata": {},
   "source": [
    "## Microscope initialization"
   ]
  },
  {
   "cell_type": "code",
   "execution_count": 2,
   "metadata": {},
   "outputs": [
    {
     "name": "stdout",
     "output_type": "stream",
     "text": [
      "Successfully initialized DAQ connection\n",
      "Microscope initialized successfully!\n"
     ]
    }
   ],
   "source": [
    "# Initialize the microscope\n",
    "microscope = GalvoScannerController()\n",
    "print(\"Microscope initialized successfully!\")"
   ]
  },
  {
   "cell_type": "markdown",
   "metadata": {},
   "source": [
    "## Set microscope to (0,0)"
   ]
  },
  {
   "cell_type": "code",
   "execution_count": 3,
   "metadata": {},
   "outputs": [],
   "source": [
    "microscope.close()"
   ]
  },
  {
   "cell_type": "markdown",
   "metadata": {},
   "source": [
    "## Live photon count\n",
    "This cell provides real-time monitoring of photon counts from the single-photon detector (SPD). The visualization updates every 0.1 seconds and displays the last 100 data points.\n"
   ]
  },
  {
   "cell_type": "code",
   "execution_count": 4,
   "metadata": {},
   "outputs": [
    {
     "data": {
      "image/png": "[encoded data removed]",
      "text/plain": [
       "<Figure size 640x480 with 1 Axes>"
      ]
     },
     "metadata": {},
     "output_type": "display_data"
    }
   ],
   "source": [
    "\n",
    "\n",
    "def measure_photons():\n",
    "    try:\n",
    "        # Read photon counts for 0.1 seconds\n",
    "        counts = microscope.read_spd_count(sampling_time=0.1)\n",
    "        # Convert to counts per second\n",
    "        return counts * 10  # Multiply by 10 since we sampled for 0.1s\n",
    "    except Exception as e:\n",
    "        print(f\"Error reading photon counts: {str(e)}\")\n",
    "        return 0\n",
    "\n",
    "\n",
    "live_plot.live_plot(\n",
    "            measure_function=measure_photons,\n",
    "            histogram_range=100,  # Show last 100 points\n",
    "            dt=0.1  # Update every 0.1 seconds\n",
    "        )"
   ]
  },
  {
   "cell_type": "markdown",
   "metadata": {},
   "source": [
    "## APD Scanning\n"
   ]
  },
  {
   "cell_type": "code",
   "execution_count": 5,
   "metadata": {},
   "outputs": [
    {
     "name": "stdout",
     "output_type": "stream",
     "text": [
      "Successfully initialized DAQ connection\n"
     ]
    },
    {
     "name": "stderr",
     "output_type": "stream",
     "text": [
      "WARNING: QWindowsWindow::setGeometry: Unable to set geometry 1086x661+2254+291 (frame: 1102x700+2246+260) on QWidgetWindow/\"_QtMainWindowClassWindow\" on \"\\\\.\\DISPLAY2\". Resulting geometry: 867x527+2253+284 (frame: 883x566+2245+253) margins: 8, 31, 8, 8 minimum size: 385x513 MINMAXINFO maxSize=0,0 maxpos=0,0 mintrack=401,552 maxtrack=0,0)\n"
     ]
    },
    {
     "name": "stderr",
     "output_type": "stream",
     "text": [
      "WARNING: QObject::connect: Cannot queue arguments of type 'QVector<int>'\n",
      "(Make sure 'QVector<int>' is registered using qRegisterMetaType().)\n"
     ]
    },
    {
     "name": "stdout",
     "output_type": "stream",
     "text": [
      "INFO: New scan started\n",
      "-0.07480635606070721\n",
      "0.04000671387999321\n",
      "0.014934568280350266\n",
      "0.13772037071298734\n",
      "0.13463046003429419\n",
      "0.14931707251944068\n",
      "0.16033203188330056\n",
      "0.2726369335879013\n",
      "0.2921014635113974\n",
      "0.3110986921285479\n",
      "0.2556424248550889\n",
      "0.3887756133568065\n",
      "0.396900934030407\n",
      "0.3977401690295582\n",
      "0.3966720517579112\n",
      "0.3836639092710672\n",
      "0.42546353428561073\n",
      "0.4967317518839872\n",
      "0.4944429291590293\n",
      "0.5274973440119629\n",
      "0.6811441061861156\n",
      "0.6299316977151828\n",
      "0.61114427784782\n",
      "0.624152420334664\n",
      "0.6549275492239938\n",
      "0.7403864677171091\n",
      "0.7935348387429022\n",
      "0.8295170393315112\n",
      "0.8641259462851454\n",
      "0.8949201486971831\n",
      "0.8587281393587863\n",
      "0.9631652129463443\n",
      "0.9612101768687761\n",
      "0.9762496495240203\n",
      "0.9617823825500156\n",
      "1.0741445048227403\n",
      "1.1302015880615006\n",
      "1.1627791648467347\n",
      "1.1499999046323865\n",
      "1.1468909204309854\n",
      "1.262533688609483\n",
      "1.2696385758182065\n",
      "1.3334585827991157\n",
      "1.358330456410325\n",
      "1.3297106355869972\n",
      "1.299450491810783\n",
      "1.376650574971342\n",
      "1.3718154369648685\n",
      "1.4949827098516653\n",
      "1.4261559031599105\n",
      "1.540673333498637\n",
      "1.5792304596528237\n",
      "1.631091367895828\n",
      "1.660359688491227\n",
      "1.6308910959073941\n",
      "1.626742604718408\n",
      "1.636441491015417\n",
      "1.6696771043340766\n",
      "1.7796168892228874\n",
      "1.685593959033888\n",
      "1.7667804084404153\n",
      "1.7525897075456762\n",
      "1.8685090418034398\n",
      "1.8035064764146356\n",
      "INFO: Image saved\n"
     ]
    }
   ],
   "source": [
    "from napari_scanning_apd import *"
   ]
  },
  {
   "cell_type": "markdown",
   "metadata": {},
   "source": [
    "## SPD Scanning"
   ]
  },
  {
   "cell_type": "code",
   "execution_count": null,
   "metadata": {},
   "outputs": [],
   "source": []
  }
 ],
 "metadata": {
  "kernelspec": {
   "display_name": "Python 3",
   "language": "python",
   "name": "python3"
  },
  "language_info": {
   "codemirror_mode": {
    "name": "ipython",
    "version": 3
   },
   "file_extension": ".py",
   "mimetype": "text/x-python",
   "name": "python",
   "nbconvert_exporter": "python",
   "pygments_lexer": "ipython3",
   "version": "3.13.2"
  }
 },
 "nbformat": 4,
 "nbformat_minor": 2
}
