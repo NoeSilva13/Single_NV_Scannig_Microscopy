{
 "cells": [
  {
   "cell_type": "code",
   "execution_count": 2,
   "metadata": {},
   "outputs": [],
   "source": [
    "# Import required libraries\n",
    "import numpy as np\n",
    "import matplotlib.pyplot as plt\n",
    "from IPython.display import display, clear_output\n",
    "import ipywidgets as widgets\n",
    "from galvo_controller import GalvoScannerController\n",
    "from main import ScanningMicroscope\n",
    "import json\n",
    "import time\n",
    "import live_plot\n",
    "# Set up matplotlib for inline plotting\n",
    "%matplotlib inline"
   ]
  },
  {
   "cell_type": "markdown",
   "metadata": {},
   "source": [
    "## Microscope initialization"
   ]
  },
  {
   "cell_type": "code",
   "execution_count": 3,
   "metadata": {},
   "outputs": [
    {
     "name": "stdout",
     "output_type": "stream",
     "text": [
      "Successfully initialized DAQ connection\n",
      "Microscope initialized successfully!\n"
     ]
    }
   ],
   "source": [
    "# Initialize the microscope\n",
    "microscope = GalvoScannerController()\n",
    "print(\"Microscope initialized successfully!\")"
   ]
  },
  {
   "cell_type": "markdown",
   "metadata": {},
   "source": [
    "## Set microscope to (0,0)"
   ]
  },
  {
   "cell_type": "code",
   "execution_count": 4,
   "metadata": {},
   "outputs": [],
   "source": [
    "microscope.close()"
   ]
  },
  {
   "cell_type": "markdown",
   "metadata": {},
   "source": [
    "## Live photon count\n",
    "This cell provides real-time monitoring of photon counts from the single-photon detector (SPD). The visualization updates every 0.1 seconds and displays the last 100 data points.\n"
   ]
  },
  {
   "cell_type": "code",
   "execution_count": 5,
   "metadata": {},
   "outputs": [
    {
     "data": {
      "image/png": "[encoded data removed]",
      "text/plain": [
       "<Figure size 640x480 with 1 Axes>"
      ]
     },
     "metadata": {},
     "output_type": "display_data"
    }
   ],
   "source": [
    "\n",
    "\n",
    "def measure_photons():\n",
    "    try:\n",
    "        # Read photon counts for 0.1 seconds\n",
    "        counts = microscope.read_spd_count(sampling_time=0.1)\n",
    "        # Convert to counts per second\n",
    "        return counts * 10  # Multiply by 10 since we sampled for 0.1s\n",
    "    except Exception as e:\n",
    "        print(f\"Error reading photon counts: {str(e)}\")\n",
    "        return 0\n",
    "\n",
    "\n",
    "live_plot.live_plot(\n",
    "            measure_function=measure_photons,\n",
    "            histogram_range=100,  # Show last 100 points\n",
    "            dt=0.1  # Update every 0.1 seconds\n",
    "        )"
   ]
  },
  {
   "cell_type": "markdown",
   "metadata": {},
   "source": [
    "## APD Scanning\n"
   ]
  },
  {
   "cell_type": "code",
   "execution_count": null,
   "metadata": {},
   "outputs": [],
   "source": []
  },
  {
   "cell_type": "markdown",
   "metadata": {},
   "source": [
    "## SPD Scanning"
   ]
  },
  {
   "cell_type": "code",
   "execution_count": null,
   "metadata": {},
   "outputs": [],
   "source": []
  }
 ],
 "metadata": {
  "kernelspec": {
   "display_name": "Python 3",
   "language": "python",
   "name": "python3"
  },
  "language_info": {
   "codemirror_mode": {
    "name": "ipython",
    "version": 3
   },
   "file_extension": ".py",
   "mimetype": "text/x-python",
   "name": "python",
   "nbconvert_exporter": "python",
   "pygments_lexer": "ipython3",
   "version": "3.13.1"
  }
 },
 "nbformat": 4,
 "nbformat_minor": 2
}
